{
 "cells": [
  {
   "cell_type": "code",
   "execution_count": 156,
   "id": "4e0cbc92",
   "metadata": {},
   "outputs": [],
   "source": [
    "firstname='faiyaz'   #print string variable"
   ]
  },
  {
   "cell_type": "code",
   "execution_count": 157,
   "id": "56ce1607",
   "metadata": {},
   "outputs": [
    {
     "name": "stdout",
     "output_type": "stream",
     "text": [
      "faiyaz\n"
     ]
    }
   ],
   "source": [
    "print(firstname)"
   ]
  },
  {
   "cell_type": "code",
   "execution_count": 161,
   "id": "95a1527e",
   "metadata": {},
   "outputs": [
    {
     "name": "stdout",
     "output_type": "stream",
     "text": [
      "Faiyaz\n"
     ]
    }
   ],
   "source": [
    "print(firstname.title())      #.title method"
   ]
  },
  {
   "cell_type": "code",
   "execution_count": 201,
   "id": "f3c72947",
   "metadata": {},
   "outputs": [
    {
     "name": "stdout",
     "output_type": "stream",
     "text": [
      "FAIYAZ\n"
     ]
    }
   ],
   "source": [
    "print(firstname.upper())      #.uppr method"
   ]
  },
  {
   "cell_type": "code",
   "execution_count": 165,
   "id": "677aa3a0",
   "metadata": {},
   "outputs": [
    {
     "ename": "SyntaxError",
     "evalue": "invalid syntax (116781882.py, line 1)",
     "output_type": "error",
     "traceback": [
      "\u001b[1;36m  Cell \u001b[1;32mIn[165], line 1\u001b[1;36m\u001b[0m\n\u001b[1;33m    Secondname='hari' TheirdName='rohan'\u001b[0m\n\u001b[1;37m                      ^\u001b[0m\n\u001b[1;31mSyntaxError\u001b[0m\u001b[1;31m:\u001b[0m invalid syntax\n"
     ]
    }
   ],
   "source": [
    "Secondname='hari' TheirdName='rohan'"
   ]
  },
  {
   "cell_type": "code",
   "execution_count": 170,
   "id": "c409ad4e",
   "metadata": {},
   "outputs": [],
   "source": [
    "SecondName='\\nhari'\n",
    "TheirdName='rohan'\n",
    "Name1='ashutosh'\n"
   ]
  },
  {
   "cell_type": "code",
   "execution_count": 176,
   "id": "18e64c58",
   "metadata": {},
   "outputs": [
    {
     "data": {
      "text/plain": [
       "'faiyaz'"
      ]
     },
     "execution_count": 176,
     "metadata": {},
     "output_type": "execute_result"
    }
   ],
   "source": [
    "firstname"
   ]
  },
  {
   "cell_type": "code",
   "execution_count": 177,
   "id": "5acb0c34",
   "metadata": {},
   "outputs": [
    {
     "name": "stdout",
     "output_type": "stream",
     "text": [
      "faiyaz \n",
      "hari\n"
     ]
    }
   ],
   "source": [
    "print(firstname,SecondName)"
   ]
  },
  {
   "cell_type": "code",
   "execution_count": 178,
   "id": "d53c6f16",
   "metadata": {},
   "outputs": [
    {
     "ename": "SyntaxError",
     "evalue": "invalid syntax. Perhaps you forgot a comma? (590295235.py, line 1)",
     "output_type": "error",
     "traceback": [
      "\u001b[1;36m  Cell \u001b[1;32mIn[178], line 1\u001b[1;36m\u001b[0m\n\u001b[1;33m    Print(firstname SecondName)\u001b[0m\n\u001b[1;37m          ^\u001b[0m\n\u001b[1;31mSyntaxError\u001b[0m\u001b[1;31m:\u001b[0m invalid syntax. Perhaps you forgot a comma?\n"
     ]
    }
   ],
   "source": [
    "Print(firstname SecondName)"
   ]
  },
  {
   "cell_type": "code",
   "execution_count": 179,
   "id": "256a251c",
   "metadata": {},
   "outputs": [
    {
     "ename": "SyntaxError",
     "evalue": "unexpected character after line continuation character (187063593.py, line 1)",
     "output_type": "error",
     "traceback": [
      "\u001b[1;36m  Cell \u001b[1;32mIn[179], line 1\u001b[1;36m\u001b[0m\n\u001b[1;33m    Print(firstname,\\nSecondName)help\u001b[0m\n\u001b[1;37m                     ^\u001b[0m\n\u001b[1;31mSyntaxError\u001b[0m\u001b[1;31m:\u001b[0m unexpected character after line continuation character\n"
     ]
    }
   ],
   "source": [
    "Print(firstname,\\nSecondName)help"
   ]
  },
  {
   "cell_type": "code",
   "execution_count": 180,
   "id": "11819aa3",
   "metadata": {},
   "outputs": [
    {
     "ename": "SyntaxError",
     "evalue": "unexpected character after line continuation character (1490967536.py, line 1)",
     "output_type": "error",
     "traceback": [
      "\u001b[1;36m  Cell \u001b[1;32mIn[180], line 1\u001b[1;36m\u001b[0m\n\u001b[1;33m    print(firstname,\\nSecondName)\u001b[0m\n\u001b[1;37m                     ^\u001b[0m\n\u001b[1;31mSyntaxError\u001b[0m\u001b[1;31m:\u001b[0m unexpected character after line continuation character\n"
     ]
    }
   ],
   "source": [
    "print(firstname,\\nSecondName)"
   ]
  },
  {
   "cell_type": "code",
   "execution_count": 181,
   "id": "141abed8",
   "metadata": {},
   "outputs": [
    {
     "ename": "SyntaxError",
     "evalue": "unexpected character after line continuation character (1310838193.py, line 1)",
     "output_type": "error",
     "traceback": [
      "\u001b[1;36m  Cell \u001b[1;32mIn[181], line 1\u001b[1;36m\u001b[0m\n\u001b[1;33m    print(firstname\\n,SecondName)\u001b[0m\n\u001b[1;37m                    ^\u001b[0m\n\u001b[1;31mSyntaxError\u001b[0m\u001b[1;31m:\u001b[0m unexpected character after line continuation character\n"
     ]
    }
   ],
   "source": [
    "print(firstname\\n,SecondName)"
   ]
  },
  {
   "cell_type": "code",
   "execution_count": 182,
   "id": "5e9c453f",
   "metadata": {},
   "outputs": [
    {
     "ename": "SyntaxError",
     "evalue": "unexpected character after line continuation character (2503428519.py, line 1)",
     "output_type": "error",
     "traceback": [
      "\u001b[1;36m  Cell \u001b[1;32mIn[182], line 1\u001b[1;36m\u001b[0m\n\u001b[1;33m    print(firstname,\\tSecondName)\u001b[0m\n\u001b[1;37m                     ^\u001b[0m\n\u001b[1;31mSyntaxError\u001b[0m\u001b[1;31m:\u001b[0m unexpected character after line continuation character\n"
     ]
    }
   ],
   "source": [
    "print(firstname,\\tSecondName)"
   ]
  },
  {
   "cell_type": "code",
   "execution_count": 183,
   "id": "cbead6e2",
   "metadata": {},
   "outputs": [
    {
     "ename": "SyntaxError",
     "evalue": "invalid syntax (1978547510.py, line 1)",
     "output_type": "error",
     "traceback": [
      "\u001b[1;36m  Cell \u001b[1;32mIn[183], line 1\u001b[1;36m\u001b[0m\n\u001b[1;33m    print(firstname,and SecondName)\u001b[0m\n\u001b[1;37m                    ^\u001b[0m\n\u001b[1;31mSyntaxError\u001b[0m\u001b[1;31m:\u001b[0m invalid syntax\n"
     ]
    }
   ],
   "source": [
    "print(firstname,and SecondName)"
   ]
  },
  {
   "cell_type": "code",
   "execution_count": 184,
   "id": "59960065",
   "metadata": {},
   "outputs": [
    {
     "ename": "SyntaxError",
     "evalue": "invalid syntax (677537253.py, line 1)",
     "output_type": "error",
     "traceback": [
      "\u001b[1;36m  Cell \u001b[1;32mIn[184], line 1\u001b[1;36m\u001b[0m\n\u001b[1;33m    print(firstname, and SecondName)\u001b[0m\n\u001b[1;37m                     ^\u001b[0m\n\u001b[1;31mSyntaxError\u001b[0m\u001b[1;31m:\u001b[0m invalid syntax\n"
     ]
    }
   ],
   "source": [
    "print(firstname, and SecondName)"
   ]
  },
  {
   "cell_type": "code",
   "execution_count": 185,
   "id": "215f6d5f",
   "metadata": {},
   "outputs": [
    {
     "name": "stdout",
     "output_type": "stream",
     "text": [
      "faiyaz \n",
      "hari\n"
     ]
    }
   ],
   "source": [
    "print(firstname,SecondName)"
   ]
  },
  {
   "cell_type": "code",
   "execution_count": 186,
   "id": "5184bb5c",
   "metadata": {},
   "outputs": [
    {
     "name": "stdout",
     "output_type": "stream",
     "text": [
      "Faiyaz \n",
      "Hari\n"
     ]
    }
   ],
   "source": [
    "print(firstname.title(),SecondName.title())"
   ]
  },
  {
   "cell_type": "code",
   "execution_count": 187,
   "id": "48e9a459",
   "metadata": {},
   "outputs": [
    {
     "ename": "SyntaxError",
     "evalue": "unexpected character after line continuation character (820394311.py, line 1)",
     "output_type": "error",
     "traceback": [
      "\u001b[1;36m  Cell \u001b[1;32mIn[187], line 1\u001b[1;36m\u001b[0m\n\u001b[1;33m    print(\\nfirstname.title(),SecondName.title())\u001b[0m\n\u001b[1;37m           ^\u001b[0m\n\u001b[1;31mSyntaxError\u001b[0m\u001b[1;31m:\u001b[0m unexpected character after line continuation character\n"
     ]
    }
   ],
   "source": [
    "print(\\nfirstname.title(),SecondName.title())"
   ]
  },
  {
   "cell_type": "code",
   "execution_count": 188,
   "id": "2a41d0bc",
   "metadata": {},
   "outputs": [
    {
     "ename": "SyntaxError",
     "evalue": "unterminated string literal (detected at line 1) (4013293435.py, line 1)",
     "output_type": "error",
     "traceback": [
      "\u001b[1;36m  Cell \u001b[1;32mIn[188], line 1\u001b[1;36m\u001b[0m\n\u001b[1;33m    print(\"firstname.title()SecondName.title())\u001b[0m\n\u001b[1;37m          ^\u001b[0m\n\u001b[1;31mSyntaxError\u001b[0m\u001b[1;31m:\u001b[0m unterminated string literal (detected at line 1)\n"
     ]
    }
   ],
   "source": [
    "print(\"firstname.title()SecondName.title())"
   ]
  },
  {
   "cell_type": "code",
   "execution_count": 189,
   "id": "b239ab15",
   "metadata": {},
   "outputs": [
    {
     "name": "stdout",
     "output_type": "stream",
     "text": [
      "firstname.title()\n",
      ",SecondName.title()\n"
     ]
    }
   ],
   "source": [
    "print('firstname.title()\\n,SecondName.title()')"
   ]
  },
  {
   "cell_type": "code",
   "execution_count": 190,
   "id": "b3bda24c",
   "metadata": {},
   "outputs": [
    {
     "ename": "SyntaxError",
     "evalue": "invalid syntax. Perhaps you forgot a comma? (1346192222.py, line 1)",
     "output_type": "error",
     "traceback": [
      "\u001b[1;36m  Cell \u001b[1;32mIn[190], line 1\u001b[1;36m\u001b[0m\n\u001b[1;33m    print(firstname.title() SecondName.title())\u001b[0m\n\u001b[1;37m          ^\u001b[0m\n\u001b[1;31mSyntaxError\u001b[0m\u001b[1;31m:\u001b[0m invalid syntax. Perhaps you forgot a comma?\n"
     ]
    }
   ],
   "source": [
    "print(firstname.title() SecondName.title())"
   ]
  },
  {
   "cell_type": "code",
   "execution_count": 191,
   "id": "715c1ff1",
   "metadata": {},
   "outputs": [
    {
     "ename": "SyntaxError",
     "evalue": "invalid syntax (2982082726.py, line 1)",
     "output_type": "error",
     "traceback": [
      "\u001b[1;36m  Cell \u001b[1;32mIn[191], line 1\u001b[1;36m\u001b[0m\n\u001b[1;33m    print(firstname.title()and,SecondName.title())\u001b[0m\n\u001b[1;37m                              ^\u001b[0m\n\u001b[1;31mSyntaxError\u001b[0m\u001b[1;31m:\u001b[0m invalid syntax\n"
     ]
    }
   ],
   "source": [
    "print(firstname.title()and,SecondName.title())"
   ]
  },
  {
   "cell_type": "code",
   "execution_count": 192,
   "id": "25de39c3",
   "metadata": {},
   "outputs": [
    {
     "name": "stdout",
     "output_type": "stream",
     "text": [
      "\n",
      "Hari\n"
     ]
    }
   ],
   "source": [
    "print(firstname.title() and SecondName.title())"
   ]
  },
  {
   "cell_type": "code",
   "execution_count": 193,
   "id": "5ce6c604",
   "metadata": {},
   "outputs": [
    {
     "name": "stdout",
     "output_type": "stream",
     "text": [
      "Faiyaz\n"
     ]
    }
   ],
   "source": [
    "print(firstname.title() or SecondName.title())"
   ]
  },
  {
   "cell_type": "code",
   "execution_count": 194,
   "id": "e4b7537c",
   "metadata": {},
   "outputs": [
    {
     "ename": "SyntaxError",
     "evalue": "invalid syntax (3494994591.py, line 1)",
     "output_type": "error",
     "traceback": [
      "\u001b[1;36m  Cell \u001b[1;32mIn[194], line 1\u001b[1;36m\u001b[0m\n\u001b[1;33m    print(firstname.title() or and SecondName.title())\u001b[0m\n\u001b[1;37m                               ^\u001b[0m\n\u001b[1;31mSyntaxError\u001b[0m\u001b[1;31m:\u001b[0m invalid syntax\n"
     ]
    }
   ],
   "source": [
    "print(firstname.title() or and SecondName.title())"
   ]
  },
  {
   "cell_type": "code",
   "execution_count": 195,
   "id": "5eef9797",
   "metadata": {},
   "outputs": [
    {
     "ename": "SyntaxError",
     "evalue": "invalid syntax (906272192.py, line 1)",
     "output_type": "error",
     "traceback": [
      "\u001b[1;36m  Cell \u001b[1;32mIn[195], line 1\u001b[1;36m\u001b[0m\n\u001b[1;33m    print(firstname.title() or , SecondName.title())\u001b[0m\n\u001b[1;37m                               ^\u001b[0m\n\u001b[1;31mSyntaxError\u001b[0m\u001b[1;31m:\u001b[0m invalid syntax\n"
     ]
    }
   ],
   "source": [
    "print(firstname.title() or , SecondName.title())"
   ]
  },
  {
   "cell_type": "code",
   "execution_count": 196,
   "id": "c5662aad",
   "metadata": {},
   "outputs": [
    {
     "ename": "SyntaxError",
     "evalue": "invalid syntax (16601736.py, line 1)",
     "output_type": "error",
     "traceback": [
      "\u001b[1;36m  Cell \u001b[1;32mIn[196], line 1\u001b[1;36m\u001b[0m\n\u001b[1;33m    print(firstname.title() or, SecondName.title())\u001b[0m\n\u001b[1;37m                              ^\u001b[0m\n\u001b[1;31mSyntaxError\u001b[0m\u001b[1;31m:\u001b[0m invalid syntax\n"
     ]
    }
   ],
   "source": [
    "print(firstname.title() or, SecondName.title())"
   ]
  },
  {
   "cell_type": "code",
   "execution_count": 197,
   "id": "d29f5e3b",
   "metadata": {},
   "outputs": [
    {
     "ename": "SyntaxError",
     "evalue": "invalid syntax (2952308798.py, line 1)",
     "output_type": "error",
     "traceback": [
      "\u001b[1;36m  Cell \u001b[1;32mIn[197], line 1\u001b[1;36m\u001b[0m\n\u001b[1;33m    print(firstname.title() or SecondName.title() and)\u001b[0m\n\u001b[1;37m                                                     ^\u001b[0m\n\u001b[1;31mSyntaxError\u001b[0m\u001b[1;31m:\u001b[0m invalid syntax\n"
     ]
    }
   ],
   "source": [
    "print(firstname.title() or SecondName.title() and)"
   ]
  },
  {
   "cell_type": "code",
   "execution_count": 198,
   "id": "16c8b50b",
   "metadata": {},
   "outputs": [
    {
     "name": "stdout",
     "output_type": "stream",
     "text": [
      "Faiyaz\n"
     ]
    }
   ],
   "source": [
    "print(firstname.title() or \n",
    "      SecondName.title())"
   ]
  },
  {
   "cell_type": "code",
   "execution_count": 199,
   "id": "28b5dbb2",
   "metadata": {},
   "outputs": [
    {
     "ename": "SyntaxError",
     "evalue": "invalid syntax. Perhaps you forgot a comma? (2097964825.py, line 1)",
     "output_type": "error",
     "traceback": [
      "\u001b[1;36m  Cell \u001b[1;32mIn[199], line 1\u001b[1;36m\u001b[0m\n\u001b[1;33m    print(firstname.title() secondName.title())\u001b[0m\n\u001b[1;37m          ^\u001b[0m\n\u001b[1;31mSyntaxError\u001b[0m\u001b[1;31m:\u001b[0m invalid syntax. Perhaps you forgot a comma?\n"
     ]
    }
   ],
   "source": [
    "print(firstname.title() secondName.title())"
   ]
  },
  {
   "cell_type": "code",
   "execution_count": 200,
   "id": "07b2368c",
   "metadata": {},
   "outputs": [
    {
     "ename": "SyntaxError",
     "evalue": "invalid syntax. Perhaps you forgot a comma? (1346192222.py, line 1)",
     "output_type": "error",
     "traceback": [
      "\u001b[1;36m  Cell \u001b[1;32mIn[200], line 1\u001b[1;36m\u001b[0m\n\u001b[1;33m    print(firstname.title() SecondName.title())\u001b[0m\n\u001b[1;37m          ^\u001b[0m\n\u001b[1;31mSyntaxError\u001b[0m\u001b[1;31m:\u001b[0m invalid syntax. Perhaps you forgot a comma?\n"
     ]
    }
   ],
   "source": [
    "print(firstname.title() SecondName.title())"
   ]
  },
  {
   "cell_type": "code",
   "execution_count": 43,
   "id": "9658dfcc",
   "metadata": {},
   "outputs": [
    {
     "name": "stdout",
     "output_type": "stream",
     "text": [
      "Faiyaz Hari\n"
     ]
    }
   ],
   "source": [
    "print(firstname.title() ,SecondName.title())"
   ]
  },
  {
   "cell_type": "code",
   "execution_count": 44,
   "id": "ce3b2483",
   "metadata": {},
   "outputs": [
    {
     "ename": "SyntaxError",
     "evalue": "unexpected character after line continuation character (4117368863.py, line 1)",
     "output_type": "error",
     "traceback": [
      "\u001b[1;36m  Cell \u001b[1;32mIn[44], line 1\u001b[1;36m\u001b[0m\n\u001b[1;33m    print(firstname\\n.title() SecondName.title())\u001b[0m\n\u001b[1;37m                    ^\u001b[0m\n\u001b[1;31mSyntaxError\u001b[0m\u001b[1;31m:\u001b[0m unexpected character after line continuation character\n"
     ]
    }
   ],
   "source": [
    "print(firstname\\n.title() SecondName.title())"
   ]
  },
  {
   "cell_type": "code",
   "execution_count": 45,
   "id": "5945fbed",
   "metadata": {},
   "outputs": [
    {
     "ename": "SyntaxError",
     "evalue": "unexpected character after line continuation character (1548462878.py, line 1)",
     "output_type": "error",
     "traceback": [
      "\u001b[1;36m  Cell \u001b[1;32mIn[45], line 1\u001b[1;36m\u001b[0m\n\u001b[1;33m    print(firstname.\\ntitle() SecondName.title())\u001b[0m\n\u001b[1;37m                     ^\u001b[0m\n\u001b[1;31mSyntaxError\u001b[0m\u001b[1;31m:\u001b[0m unexpected character after line continuation character\n"
     ]
    }
   ],
   "source": [
    "print(firstname.\\ntitle() SecondName.title())"
   ]
  },
  {
   "cell_type": "code",
   "execution_count": 46,
   "id": "c2080f05",
   "metadata": {},
   "outputs": [
    {
     "ename": "SyntaxError",
     "evalue": "invalid syntax. Perhaps you forgot a comma? (2083938074.py, line 1)",
     "output_type": "error",
     "traceback": [
      "\u001b[1;36m  Cell \u001b[1;32mIn[46], line 1\u001b[1;36m\u001b[0m\n\u001b[1;33m    print(firstname.title() SecondName.title()/n)\u001b[0m\n\u001b[1;37m          ^\u001b[0m\n\u001b[1;31mSyntaxError\u001b[0m\u001b[1;31m:\u001b[0m invalid syntax. Perhaps you forgot a comma?\n"
     ]
    }
   ],
   "source": [
    "print(firstname.title() SecondName.title()/n)"
   ]
  },
  {
   "cell_type": "code",
   "execution_count": 47,
   "id": "d86d5126",
   "metadata": {},
   "outputs": [
    {
     "name": "stdout",
     "output_type": "stream",
     "text": [
      "Faiyaz Hari\n"
     ]
    }
   ],
   "source": [
    "print(firstname.title(), SecondName.title())"
   ]
  },
  {
   "cell_type": "code",
   "execution_count": 48,
   "id": "f4ba2e37",
   "metadata": {},
   "outputs": [
    {
     "ename": "SyntaxError",
     "evalue": "unexpected character after line continuation character (1925386982.py, line 1)",
     "output_type": "error",
     "traceback": [
      "\u001b[1;36m  Cell \u001b[1;32mIn[48], line 1\u001b[1;36m\u001b[0m\n\u001b[1;33m    print(firstname.title(), SecondName.title()\\n\u001b[0m\n\u001b[1;37m                                                ^\u001b[0m\n\u001b[1;31mSyntaxError\u001b[0m\u001b[1;31m:\u001b[0m unexpected character after line continuation character\n"
     ]
    }
   ],
   "source": [
    "print(firstname.title(), SecondName.title()\\n\n",
    "     )"
   ]
  },
  {
   "cell_type": "code",
   "execution_count": 49,
   "id": "64e69644",
   "metadata": {},
   "outputs": [
    {
     "ename": "SyntaxError",
     "evalue": "unexpected character after line continuation character (3575094841.py, line 1)",
     "output_type": "error",
     "traceback": [
      "\u001b[1;36m  Cell \u001b[1;32mIn[49], line 1\u001b[1;36m\u001b[0m\n\u001b[1;33m    print(firstname.title(), SecondName.title())\\n\u001b[0m\n\u001b[1;37m                                                 ^\u001b[0m\n\u001b[1;31mSyntaxError\u001b[0m\u001b[1;31m:\u001b[0m unexpected character after line continuation character\n"
     ]
    }
   ],
   "source": [
    "print(firstname.title(), SecondName.title())\\n"
   ]
  },
  {
   "cell_type": "code",
   "execution_count": 50,
   "id": "8ae98c0d",
   "metadata": {},
   "outputs": [
    {
     "ename": "SyntaxError",
     "evalue": "unexpected character after line continuation character (4195820142.py, line 2)",
     "output_type": "error",
     "traceback": [
      "\u001b[1;36m  Cell \u001b[1;32mIn[50], line 2\u001b[1;36m\u001b[0m\n\u001b[1;33m    \\n\u001b[0m\n\u001b[1;37m     ^\u001b[0m\n\u001b[1;31mSyntaxError\u001b[0m\u001b[1;31m:\u001b[0m unexpected character after line continuation character\n"
     ]
    }
   ],
   "source": [
    "print(firstname.title())\n",
    "\\n"
   ]
  },
  {
   "cell_type": "code",
   "execution_count": 51,
   "id": "1a9cfd34",
   "metadata": {},
   "outputs": [
    {
     "name": "stdout",
     "output_type": "stream",
     "text": [
      "Faiyaz\n"
     ]
    }
   ],
   "source": [
    "print(firstname.title())\n"
   ]
  },
  {
   "cell_type": "code",
   "execution_count": 52,
   "id": "4b7b99df",
   "metadata": {},
   "outputs": [
    {
     "ename": "SyntaxError",
     "evalue": "invalid syntax (4143887553.py, line 1)",
     "output_type": "error",
     "traceback": [
      "\u001b[1;36m  Cell \u001b[1;32mIn[52], line 1\u001b[1;36m\u001b[0m\n\u001b[1;33m    print(firstname.title())help\u001b[0m\n\u001b[1;37m                            ^\u001b[0m\n\u001b[1;31mSyntaxError\u001b[0m\u001b[1;31m:\u001b[0m invalid syntax\n"
     ]
    }
   ],
   "source": [
    "print(firstname.title())help\n"
   ]
  },
  {
   "cell_type": "code",
   "execution_count": 53,
   "id": "fee45b0e",
   "metadata": {},
   "outputs": [
    {
     "ename": "SyntaxError",
     "evalue": "unexpected character after line continuation character (3854243750.py, line 1)",
     "output_type": "error",
     "traceback": [
      "\u001b[1;36m  Cell \u001b[1;32mIn[53], line 1\u001b[1;36m\u001b[0m\n\u001b[1;33m    print(firstname\\nSecondName)\u001b[0m\n\u001b[1;37m                    ^\u001b[0m\n\u001b[1;31mSyntaxError\u001b[0m\u001b[1;31m:\u001b[0m unexpected character after line continuation character\n"
     ]
    }
   ],
   "source": [
    "print(firstname\\nSecondName)\n"
   ]
  },
  {
   "cell_type": "code",
   "execution_count": 60,
   "id": "206f6e3d",
   "metadata": {},
   "outputs": [
    {
     "name": "stdout",
     "output_type": "stream",
     "text": [
      "Faiyaz\n",
      "\n",
      "HARI\n"
     ]
    }
   ],
   "source": [
    "print(firstname.title())\n",
    "print(\"\")\n",
    "print(SecondName.upper())"
   ]
  },
  {
   "cell_type": "code",
   "execution_count": 61,
   "id": "23755eb5",
   "metadata": {},
   "outputs": [],
   "source": [
    "Name=\"fisrtname,SecondName\""
   ]
  },
  {
   "cell_type": "code",
   "execution_count": 62,
   "id": "01c35171",
   "metadata": {},
   "outputs": [
    {
     "name": "stdout",
     "output_type": "stream",
     "text": [
      "fisrtname,SecondName\n"
     ]
    }
   ],
   "source": [
    "print(Name)"
   ]
  },
  {
   "cell_type": "code",
   "execution_count": 63,
   "id": "6eab19cd",
   "metadata": {},
   "outputs": [
    {
     "name": "stdout",
     "output_type": "stream",
     "text": [
      "faiyaz\n"
     ]
    }
   ],
   "source": [
    "print(firstname)"
   ]
  },
  {
   "cell_type": "code",
   "execution_count": 64,
   "id": "4ec33bbc",
   "metadata": {},
   "outputs": [
    {
     "ename": "NameError",
     "evalue": "name 'name' is not defined",
     "output_type": "error",
     "traceback": [
      "\u001b[1;31m---------------------------------------------------------------------------\u001b[0m",
      "\u001b[1;31mNameError\u001b[0m                                 Traceback (most recent call last)",
      "Cell \u001b[1;32mIn[64], line 1\u001b[0m\n\u001b[1;32m----> 1\u001b[0m \u001b[38;5;28mtype\u001b[39m(\u001b[43mname\u001b[49m)\n",
      "\u001b[1;31mNameError\u001b[0m: name 'name' is not defined"
     ]
    }
   ],
   "source": [
    "type(name)"
   ]
  },
  {
   "cell_type": "code",
   "execution_count": 65,
   "id": "b428623e",
   "metadata": {},
   "outputs": [
    {
     "data": {
      "text/plain": [
       "str"
      ]
     },
     "execution_count": 65,
     "metadata": {},
     "output_type": "execute_result"
    }
   ],
   "source": [
    "type(Name)"
   ]
  },
  {
   "cell_type": "code",
   "execution_count": 74,
   "id": "0bd2882d",
   "metadata": {},
   "outputs": [],
   "source": [
    "Name=f\"{firstname.title()} {SecondName}\""
   ]
  },
  {
   "cell_type": "code",
   "execution_count": 75,
   "id": "02d8ac92",
   "metadata": {},
   "outputs": [
    {
     "name": "stdout",
     "output_type": "stream",
     "text": [
      "Faiyaz hari\n"
     ]
    }
   ],
   "source": [
    "print(Name)"
   ]
  },
  {
   "cell_type": "code",
   "execution_count": 76,
   "id": "1173b8a0",
   "metadata": {},
   "outputs": [],
   "source": [
    "Name=f\"{firstname.title()}\\n {SecondName}\""
   ]
  },
  {
   "cell_type": "code",
   "execution_count": 78,
   "id": "dd832885",
   "metadata": {},
   "outputs": [
    {
     "name": "stdout",
     "output_type": "stream",
     "text": [
      "Faiyaz\n",
      " hari\n"
     ]
    }
   ],
   "source": [
    "print(Name)"
   ]
  },
  {
   "cell_type": "code",
   "execution_count": 79,
   "id": "7fa0a3c2",
   "metadata": {},
   "outputs": [],
   "source": [
    "Name=f\"{firstname.title()} \\n{SecondName}\""
   ]
  },
  {
   "cell_type": "code",
   "execution_count": 80,
   "id": "52011be5",
   "metadata": {},
   "outputs": [
    {
     "name": "stdout",
     "output_type": "stream",
     "text": [
      "Faiyaz \n",
      "hari\n"
     ]
    }
   ],
   "source": [
    "print(Name)"
   ]
  },
  {
   "cell_type": "code",
   "execution_count": 81,
   "id": "98333981",
   "metadata": {},
   "outputs": [],
   "source": [
    "Name=f\"{firstname.title()}\\n{SecondName}\""
   ]
  },
  {
   "cell_type": "code",
   "execution_count": 82,
   "id": "63299054",
   "metadata": {},
   "outputs": [
    {
     "name": "stdout",
     "output_type": "stream",
     "text": [
      "Faiyaz\n",
      "hari\n"
     ]
    }
   ],
   "source": [
    "print(Name)"
   ]
  },
  {
   "cell_type": "code",
   "execution_count": 83,
   "id": "b5f55c62",
   "metadata": {},
   "outputs": [
    {
     "ename": "SyntaxError",
     "evalue": "invalid syntax (2193149231.py, line 2)",
     "output_type": "error",
     "traceback": [
      "\u001b[1;36m  Cell \u001b[1;32mIn[83], line 2\u001b[1;36m\u001b[0m\n\u001b[1;33m    print(Name*)\u001b[0m\n\u001b[1;37m               ^\u001b[0m\n\u001b[1;31mSyntaxError\u001b[0m\u001b[1;31m:\u001b[0m invalid syntax\n"
     ]
    }
   ],
   "source": [
    "print(Name)\n",
    "print(Name*)"
   ]
  },
  {
   "cell_type": "code",
   "execution_count": 84,
   "id": "972aa29e",
   "metadata": {},
   "outputs": [
    {
     "name": "stdout",
     "output_type": "stream",
     "text": [
      "Faiyaz\n",
      "hari\n"
     ]
    }
   ],
   "source": [
    "print(Name)"
   ]
  },
  {
   "cell_type": "code",
   "execution_count": 145,
   "id": "8fa2bd0b",
   "metadata": {},
   "outputs": [
    {
     "name": "stdout",
     "output_type": "stream",
     "text": [
      "Faiyaz\n",
      "hari\n",
      "Faiyaz\n",
      "hari\n",
      "Faiyaz\n",
      "hari\n"
     ]
    }
   ],
   "source": [
    "print(Name)\n",
    "print(Name)\n",
    "print(Name)"
   ]
  },
  {
   "cell_type": "code",
   "execution_count": 202,
   "id": "8e623982",
   "metadata": {},
   "outputs": [
    {
     "name": "stdout",
     "output_type": "stream",
     "text": [
      "ashutosh\n"
     ]
    }
   ],
   "source": [
    "print(Name1)"
   ]
  },
  {
   "cell_type": "code",
   "execution_count": 203,
   "id": "da996ae2",
   "metadata": {},
   "outputs": [
    {
     "ename": "SyntaxError",
     "evalue": "invalid syntax (224329075.py, line 1)",
     "output_type": "error",
     "traceback": [
      "\u001b[1;36m  Cell \u001b[1;32mIn[203], line 1\u001b[1;36m\u001b[0m\n\u001b[1;33m    print(Name) print(Name)\u001b[0m\n\u001b[1;37m                ^\u001b[0m\n\u001b[1;31mSyntaxError\u001b[0m\u001b[1;31m:\u001b[0m invalid syntax\n"
     ]
    }
   ],
   "source": [
    "print(Name) print(Name) \n",
    "\n",
    "#double print function never be use in single line"
   ]
  },
  {
   "cell_type": "code",
   "execution_count": 204,
   "id": "b003f5a6",
   "metadata": {},
   "outputs": [
    {
     "name": "stdout",
     "output_type": "stream",
     "text": [
      "Faiyaz\n",
      "hari\n",
      "Faiyaz\n",
      "hari\n"
     ]
    }
   ],
   "source": [
    "print(Name) \n",
    "print(Name)"
   ]
  },
  {
   "cell_type": "code",
   "execution_count": 205,
   "id": "10771022",
   "metadata": {},
   "outputs": [
    {
     "name": "stdout",
     "output_type": "stream",
     "text": [
      "Name\n"
     ]
    }
   ],
   "source": [
    "print(\"Name\")"
   ]
  },
  {
   "cell_type": "code",
   "execution_count": 206,
   "id": "57e920d5",
   "metadata": {},
   "outputs": [
    {
     "name": "stdout",
     "output_type": "stream",
     "text": [
      "Name\n"
     ]
    }
   ],
   "source": [
    "print('Name')"
   ]
  },
  {
   "cell_type": "code",
   "execution_count": 207,
   "id": "1ffc0c01",
   "metadata": {},
   "outputs": [
    {
     "name": "stdout",
     "output_type": "stream",
     "text": [
      "Faiyaz\n",
      "hari\n"
     ]
    }
   ],
   "source": [
    "print(Name)"
   ]
  },
  {
   "cell_type": "code",
   "execution_count": 208,
   "id": "607dfc42",
   "metadata": {},
   "outputs": [],
   "source": [
    "language=\"python,java,c,c++,react,JS\""
   ]
  },
  {
   "cell_type": "code",
   "execution_count": 209,
   "id": "85a33546",
   "metadata": {},
   "outputs": [
    {
     "name": "stdout",
     "output_type": "stream",
     "text": [
      "python,java,c,c++,react,JS\n"
     ]
    }
   ],
   "source": [
    "print(language)"
   ]
  },
  {
   "cell_type": "code",
   "execution_count": 210,
   "id": "efd544d8",
   "metadata": {},
   "outputs": [],
   "source": [
    "language=\"python,\\njava,\\nc,\\nc++,\\nreact,\\nJS\""
   ]
  },
  {
   "cell_type": "code",
   "execution_count": 211,
   "id": "9a9ef80b",
   "metadata": {},
   "outputs": [
    {
     "name": "stdout",
     "output_type": "stream",
     "text": [
      "python,\n",
      "java,\n",
      "c,\n",
      "c++,\n",
      "react,\n",
      "JS\n"
     ]
    }
   ],
   "source": [
    "print(language)"
   ]
  },
  {
   "cell_type": "code",
   "execution_count": 212,
   "id": "738dde05",
   "metadata": {},
   "outputs": [],
   "source": [
    "language=\"\\tpython,\\njava,\\n\\tc,\\nc++,\\n\\treact,\\nJS\" #using \\n for new line and \\t for tab delimiter"
   ]
  },
  {
   "cell_type": "code",
   "execution_count": 213,
   "id": "726ad328",
   "metadata": {},
   "outputs": [
    {
     "name": "stdout",
     "output_type": "stream",
     "text": [
      "\tpython,\n",
      "java,\n",
      "\tc,\n",
      "c++,\n",
      "\treact,\n",
      "JS\n"
     ]
    }
   ],
   "source": [
    "print(language)"
   ]
  },
  {
   "cell_type": "code",
   "execution_count": null,
   "id": "1ba84934",
   "metadata": {},
   "outputs": [],
   "source": []
  },
  {
   "cell_type": "code",
   "execution_count": null,
   "id": "e9a54c22",
   "metadata": {},
   "outputs": [],
   "source": []
  },
  {
   "cell_type": "code",
   "execution_count": null,
   "id": "8c084074",
   "metadata": {},
   "outputs": [],
   "source": []
  },
  {
   "cell_type": "code",
   "execution_count": null,
   "id": "b3d15f11",
   "metadata": {},
   "outputs": [],
   "source": []
  },
  {
   "cell_type": "code",
   "execution_count": null,
   "id": "ff262267",
   "metadata": {},
   "outputs": [],
   "source": []
  },
  {
   "cell_type": "code",
   "execution_count": null,
   "id": "702f95f6",
   "metadata": {},
   "outputs": [],
   "source": []
  },
  {
   "cell_type": "code",
   "execution_count": null,
   "id": "aaf4f7a0",
   "metadata": {},
   "outputs": [],
   "source": []
  },
  {
   "cell_type": "code",
   "execution_count": null,
   "id": "58baaf73",
   "metadata": {},
   "outputs": [],
   "source": []
  },
  {
   "cell_type": "code",
   "execution_count": null,
   "id": "f6b8fd38",
   "metadata": {},
   "outputs": [],
   "source": []
  },
  {
   "cell_type": "code",
   "execution_count": null,
   "id": "6c086674",
   "metadata": {},
   "outputs": [],
   "source": []
  },
  {
   "cell_type": "code",
   "execution_count": null,
   "id": "e00cb22d",
   "metadata": {},
   "outputs": [],
   "source": []
  }
 ],
 "metadata": {
  "kernelspec": {
   "display_name": "Python 3 (ipykernel)",
   "language": "python",
   "name": "python3"
  },
  "language_info": {
   "codemirror_mode": {
    "name": "ipython",
    "version": 3
   },
   "file_extension": ".py",
   "mimetype": "text/x-python",
   "name": "python",
   "nbconvert_exporter": "python",
   "pygments_lexer": "ipython3",
   "version": "3.10.9"
  }
 },
 "nbformat": 4,
 "nbformat_minor": 5
}
