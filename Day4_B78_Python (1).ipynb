{
 "cells": [
  {
   "cell_type": "code",
   "execution_count": 19,
   "id": "210028ce",
   "metadata": {},
   "outputs": [],
   "source": [
    "students=['hari','rohan','alok','ashu','ansh']    #using list in python"
   ]
  },
  {
   "cell_type": "code",
   "execution_count": 21,
   "id": "f5a03ade",
   "metadata": {},
   "outputs": [
    {
     "data": {
      "text/plain": [
       "str"
      ]
     },
     "execution_count": 21,
     "metadata": {},
     "output_type": "execute_result"
    }
   ],
   "source": [
    "type(students[3])     #to check datatype"
   ]
  },
  {
   "cell_type": "code",
   "execution_count": 22,
   "id": "331ca361",
   "metadata": {},
   "outputs": [
    {
     "data": {
      "text/plain": [
       "list"
      ]
     },
     "execution_count": 22,
     "metadata": {},
     "output_type": "execute_result"
    }
   ],
   "source": [
    "type(students)"
   ]
  },
  {
   "cell_type": "code",
   "execution_count": 23,
   "id": "67a3babf",
   "metadata": {},
   "outputs": [
    {
     "name": "stdout",
     "output_type": "stream",
     "text": [
      "['hari', 'rohan', 'alok', 'ashu', 'ansh']\n"
     ]
    }
   ],
   "source": [
    "print(students)"
   ]
  },
  {
   "cell_type": "code",
   "execution_count": 24,
   "id": "6df5226a",
   "metadata": {},
   "outputs": [
    {
     "ename": "AttributeError",
     "evalue": "'list' object has no attribute 'title'",
     "output_type": "error",
     "traceback": [
      "\u001b[1;31m---------------------------------------------------------------------------\u001b[0m",
      "\u001b[1;31mAttributeError\u001b[0m                            Traceback (most recent call last)",
      "Cell \u001b[1;32mIn[24], line 1\u001b[0m\n\u001b[1;32m----> 1\u001b[0m \u001b[38;5;28mprint\u001b[39m(\u001b[43mstudents\u001b[49m\u001b[38;5;241;43m.\u001b[39;49m\u001b[43mtitle\u001b[49m)\n",
      "\u001b[1;31mAttributeError\u001b[0m: 'list' object has no attribute 'title'"
     ]
    }
   ],
   "source": [
    "print(students.title)"
   ]
  },
  {
   "cell_type": "code",
   "execution_count": 31,
   "id": "11d1a638",
   "metadata": {},
   "outputs": [
    {
     "name": "stdout",
     "output_type": "stream",
     "text": [
      "Hari\n"
     ]
    }
   ],
   "source": [
    "print(students[0].title())"
   ]
  },
  {
   "cell_type": "code",
   "execution_count": 111,
   "id": "19d777db",
   "metadata": {},
   "outputs": [],
   "source": [
    "students.append('pranay')    # append method used to add at the last in the list"
   ]
  },
  {
   "cell_type": "code",
   "execution_count": 113,
   "id": "c9f201e7",
   "metadata": {},
   "outputs": [
    {
     "name": "stdout",
     "output_type": "stream",
     "text": [
      "['hari', 'rohan', 'jayant', 'jayant', 'jayant', 'ashu', 'ansh', 'adi', 'praveen', 'sunny', 'pranay', 'pranay', 'pranay']\n"
     ]
    }
   ],
   "source": [
    "print(students)"
   ]
  },
  {
   "cell_type": "code",
   "execution_count": 115,
   "id": "b2acb77a",
   "metadata": {},
   "outputs": [],
   "source": [
    "students.insert(2,'jayant')     # insert method used to insert the in the at desire position"
   ]
  },
  {
   "cell_type": "code",
   "execution_count": 116,
   "id": "0a2e3cf5",
   "metadata": {},
   "outputs": [
    {
     "name": "stdout",
     "output_type": "stream",
     "text": [
      "['hari', 'rohan', 'jayant', 'jayant', 'jayant', 'jayant', 'jayant', 'ashu', 'ansh', 'adi', 'praveen', 'sunny', 'pranay', 'pranay', 'pranay']\n"
     ]
    }
   ],
   "source": [
    "print(students)"
   ]
  },
  {
   "cell_type": "code",
   "execution_count": 117,
   "id": "7e4655e8",
   "metadata": {},
   "outputs": [],
   "source": [
    "students[7]='adi'    # modify the list to used to index number\n",
    "students[9]='sunny'\n",
    "students[8]='praveen'"
   ]
  },
  {
   "cell_type": "code",
   "execution_count": 118,
   "id": "278a4231",
   "metadata": {},
   "outputs": [
    {
     "name": "stdout",
     "output_type": "stream",
     "text": [
      "['hari', 'rohan', 'jayant', 'jayant', 'jayant', 'jayant', 'jayant', 'adi', 'praveen', 'sunny', 'praveen', 'sunny', 'pranay', 'pranay', 'pranay']\n"
     ]
    }
   ],
   "source": [
    "print(students)"
   ]
  },
  {
   "cell_type": "code",
   "execution_count": 120,
   "id": "b6e623be",
   "metadata": {},
   "outputs": [],
   "source": [
    "students[2]='aditya'\n",
    "students[3]='Viyan'\n",
    "students[4]='shalu'"
   ]
  },
  {
   "cell_type": "code",
   "execution_count": null,
   "id": "8e7c4266",
   "metadata": {},
   "outputs": [],
   "source": []
  },
  {
   "cell_type": "code",
   "execution_count": 122,
   "id": "aa471638",
   "metadata": {},
   "outputs": [
    {
     "name": "stdout",
     "output_type": "stream",
     "text": [
      "['hari', 'rohan', 'aditya', 'Viyan', 'shalu', 'jayant', 'jayant', 'adi', 'praveen', 'sunny', 'praveen', 'sunny', 'pranay', 'pranay', 'pranay']\n"
     ]
    }
   ],
   "source": [
    "print(students)"
   ]
  },
  {
   "cell_type": "code",
   "execution_count": null,
   "id": "bb73b207",
   "metadata": {},
   "outputs": [],
   "source": []
  },
  {
   "cell_type": "code",
   "execution_count": 123,
   "id": "4d55eaea",
   "metadata": {},
   "outputs": [
    {
     "name": "stdout",
     "output_type": "stream",
     "text": [
      "['hari', 'rohan', 'aditya', 'Viyan', 'shalu', 'jayant', 'jayant', 'adi', 'praveen', 'sunny', 'praveen', 'sunny', 'pranay', 'pranay', 'pranay']\n"
     ]
    }
   ],
   "source": [
    "print(students)"
   ]
  },
  {
   "cell_type": "code",
   "execution_count": 125,
   "id": "aa250269",
   "metadata": {},
   "outputs": [],
   "source": [
    "x=students.pop(14)    # pop method used to delete an item as temporary"
   ]
  },
  {
   "cell_type": "code",
   "execution_count": 126,
   "id": "c10897dd",
   "metadata": {},
   "outputs": [
    {
     "name": "stdout",
     "output_type": "stream",
     "text": [
      "pranay\n"
     ]
    }
   ],
   "source": [
    "print(x)"
   ]
  },
  {
   "cell_type": "code",
   "execution_count": 127,
   "id": "14a6b26c",
   "metadata": {},
   "outputs": [],
   "source": [
    "y=students.pop(10)"
   ]
  },
  {
   "cell_type": "code",
   "execution_count": 128,
   "id": "976a676b",
   "metadata": {},
   "outputs": [
    {
     "name": "stdout",
     "output_type": "stream",
     "text": [
      "praveen\n"
     ]
    }
   ],
   "source": [
    "print(y)"
   ]
  },
  {
   "cell_type": "code",
   "execution_count": 132,
   "id": "0d40a752",
   "metadata": {},
   "outputs": [
    {
     "name": "stdout",
     "output_type": "stream",
     "text": [
      "['hari', 'rohan', 'aditya', 'Viyan', 'shalu', 'jayant', 'jayant', 'adi', 'praveen', 'sunny', 'sunny', 'pranay', 'pranay']\n"
     ]
    }
   ],
   "source": [
    "print(students)"
   ]
  },
  {
   "cell_type": "code",
   "execution_count": 133,
   "id": "7e6465f2",
   "metadata": {},
   "outputs": [
    {
     "ename": "SyntaxError",
     "evalue": "invalid syntax (3785932423.py, line 1)",
     "output_type": "error",
     "traceback": [
      "\u001b[1;36m  Cell \u001b[1;32mIn[133], line 1\u001b[1;36m\u001b[0m\n\u001b[1;33m    del.students[10]\u001b[0m\n\u001b[1;37m       ^\u001b[0m\n\u001b[1;31mSyntaxError\u001b[0m\u001b[1;31m:\u001b[0m invalid syntax\n"
     ]
    }
   ],
   "source": [
    "del.students[10]"
   ]
  },
  {
   "cell_type": "code",
   "execution_count": 135,
   "id": "a59a8434",
   "metadata": {},
   "outputs": [],
   "source": [
    "students.remove('pranay')  # remove method used to remove an item from the list but it is exitence in the list "
   ]
  },
  {
   "cell_type": "code",
   "execution_count": 136,
   "id": "787ee3a3",
   "metadata": {},
   "outputs": [
    {
     "name": "stdout",
     "output_type": "stream",
     "text": [
      "['hari', 'rohan', 'aditya', 'Viyan', 'shalu', 'jayant', 'jayant', 'adi', 'praveen', 'sunny', 'sunny', 'pranay']\n"
     ]
    }
   ],
   "source": [
    "print(students)"
   ]
  },
  {
   "cell_type": "code",
   "execution_count": 138,
   "id": "49d2a622",
   "metadata": {},
   "outputs": [
    {
     "ename": "TypeError",
     "evalue": "'builtin_function_or_method' object is not subscriptable",
     "output_type": "error",
     "traceback": [
      "\u001b[1;31m---------------------------------------------------------------------------\u001b[0m",
      "\u001b[1;31mTypeError\u001b[0m                                 Traceback (most recent call last)",
      "Cell \u001b[1;32mIn[138], line 1\u001b[0m\n\u001b[1;32m----> 1\u001b[0m \u001b[43mstudents\u001b[49m\u001b[38;5;241;43m.\u001b[39;49m\u001b[43mremove\u001b[49m\u001b[43m[\u001b[49m\u001b[38;5;241;43m12\u001b[39;49m\u001b[43m]\u001b[49m\n",
      "\u001b[1;31mTypeError\u001b[0m: 'builtin_function_or_method' object is not subscriptable"
     ]
    }
   ],
   "source": [
    "students.remove[12]"
   ]
  },
  {
   "cell_type": "code",
   "execution_count": 139,
   "id": "8b8ef44d",
   "metadata": {},
   "outputs": [
    {
     "ename": "ValueError",
     "evalue": "list.remove(x): x not in list",
     "output_type": "error",
     "traceback": [
      "\u001b[1;31m---------------------------------------------------------------------------\u001b[0m",
      "\u001b[1;31mValueError\u001b[0m                                Traceback (most recent call last)",
      "Cell \u001b[1;32mIn[139], line 1\u001b[0m\n\u001b[1;32m----> 1\u001b[0m \u001b[43mstudents\u001b[49m\u001b[38;5;241;43m.\u001b[39;49m\u001b[43mremove\u001b[49m\u001b[43m(\u001b[49m\u001b[38;5;241;43m12\u001b[39;49m\u001b[43m)\u001b[49m\n",
      "\u001b[1;31mValueError\u001b[0m: list.remove(x): x not in list"
     ]
    }
   ],
   "source": [
    "students.remove(12)"
   ]
  },
  {
   "cell_type": "code",
   "execution_count": 142,
   "id": "4f25d0a7",
   "metadata": {},
   "outputs": [
    {
     "ename": "ValueError",
     "evalue": "list.remove(x): x not in list",
     "output_type": "error",
     "traceback": [
      "\u001b[1;31m---------------------------------------------------------------------------\u001b[0m",
      "\u001b[1;31mValueError\u001b[0m                                Traceback (most recent call last)",
      "Cell \u001b[1;32mIn[142], line 1\u001b[0m\n\u001b[1;32m----> 1\u001b[0m \u001b[43mstudents\u001b[49m\u001b[38;5;241;43m.\u001b[39;49m\u001b[43mremove\u001b[49m\u001b[43m(\u001b[49m\u001b[38;5;124;43m'\u001b[39;49m\u001b[38;5;124;43m11\u001b[39;49m\u001b[38;5;124;43m'\u001b[39;49m\u001b[43m)\u001b[49m\n",
      "\u001b[1;31mValueError\u001b[0m: list.remove(x): x not in list"
     ]
    }
   ],
   "source": [
    "students.remove('11')       # remove method used for only through item of the list and not through the index number"
   ]
  },
  {
   "cell_type": "code",
   "execution_count": 143,
   "id": "88632493",
   "metadata": {},
   "outputs": [
    {
     "name": "stdout",
     "output_type": "stream",
     "text": [
      "False\n"
     ]
    }
   ],
   "source": [
    "print('Javed' in students)     # in function to check the value is it in the list"
   ]
  },
  {
   "cell_type": "code",
   "execution_count": 144,
   "id": "fd8bb7d2",
   "metadata": {},
   "outputs": [
    {
     "name": "stdout",
     "output_type": "stream",
     "text": [
      "True\n"
     ]
    }
   ],
   "source": [
    "print('hari' in students)"
   ]
  },
  {
   "cell_type": "code",
   "execution_count": 146,
   "id": "6c9c72d9",
   "metadata": {},
   "outputs": [],
   "source": [
    "del students[5]     ## del method  used to delete the value of list for permanently "
   ]
  },
  {
   "cell_type": "code",
   "execution_count": 147,
   "id": "1b6181fb",
   "metadata": {},
   "outputs": [
    {
     "name": "stdout",
     "output_type": "stream",
     "text": [
      "['hari', 'rohan', 'aditya', 'Viyan', 'shalu', 'jayant', 'adi', 'praveen', 'sunny', 'sunny', 'pranay']\n"
     ]
    }
   ],
   "source": [
    "print(students)"
   ]
  },
  {
   "cell_type": "code",
   "execution_count": 148,
   "id": "9333ec28",
   "metadata": {},
   "outputs": [],
   "source": [
    "del students[9]    # del method  used to delete the value of list for permanently "
   ]
  },
  {
   "cell_type": "code",
   "execution_count": 149,
   "id": "6747c55f",
   "metadata": {},
   "outputs": [
    {
     "name": "stdout",
     "output_type": "stream",
     "text": [
      "['hari', 'rohan', 'aditya', 'Viyan', 'shalu', 'jayant', 'adi', 'praveen', 'sunny', 'pranay']\n"
     ]
    }
   ],
   "source": [
    "print(students)"
   ]
  },
  {
   "cell_type": "code",
   "execution_count": 152,
   "id": "355d500d",
   "metadata": {},
   "outputs": [
    {
     "name": "stdout",
     "output_type": "stream",
     "text": [
      "False\n"
     ]
    }
   ],
   "source": [
    "print(\"javed\" in students)"
   ]
  },
  {
   "cell_type": "code",
   "execution_count": 154,
   "id": "5a763541",
   "metadata": {},
   "outputs": [],
   "source": [
    "students.remove('pranay')"
   ]
  },
  {
   "cell_type": "code",
   "execution_count": 155,
   "id": "3c32f93f",
   "metadata": {},
   "outputs": [
    {
     "name": "stdout",
     "output_type": "stream",
     "text": [
      "['hari', 'rohan', 'aditya', 'Viyan', 'shalu', 'jayant', 'adi', 'praveen', 'sunny']\n"
     ]
    }
   ],
   "source": [
    "print(students)"
   ]
  },
  {
   "cell_type": "code",
   "execution_count": 156,
   "id": "fbcf1e98",
   "metadata": {},
   "outputs": [
    {
     "name": "stdout",
     "output_type": "stream",
     "text": [
      "False\n"
     ]
    }
   ],
   "source": [
    "print(\"pranay\" in students)"
   ]
  },
  {
   "cell_type": "code",
   "execution_count": 157,
   "id": "4db66b30",
   "metadata": {},
   "outputs": [
    {
     "name": "stdout",
     "output_type": "stream",
     "text": [
      "pranay\n"
     ]
    }
   ],
   "source": [
    "print('pranay')"
   ]
  },
  {
   "cell_type": "code",
   "execution_count": 158,
   "id": "26e26e2d",
   "metadata": {},
   "outputs": [
    {
     "name": "stdout",
     "output_type": "stream",
     "text": [
      "False\n"
     ]
    }
   ],
   "source": [
    "print('pranay' in students)"
   ]
  },
  {
   "cell_type": "code",
   "execution_count": 159,
   "id": "df3b89a6",
   "metadata": {},
   "outputs": [
    {
     "name": "stdout",
     "output_type": "stream",
     "text": [
      "True\n"
     ]
    }
   ],
   "source": [
    "print('praveen' in students)"
   ]
  },
  {
   "cell_type": "code",
   "execution_count": 160,
   "id": "6d153784",
   "metadata": {},
   "outputs": [
    {
     "name": "stdout",
     "output_type": "stream",
     "text": [
      "praveen\n"
     ]
    }
   ],
   "source": [
    "print(y)"
   ]
  },
  {
   "cell_type": "code",
   "execution_count": 161,
   "id": "77d71f42",
   "metadata": {},
   "outputs": [],
   "source": [
    "z=students.pop(8)"
   ]
  },
  {
   "cell_type": "code",
   "execution_count": 162,
   "id": "f4c0f215",
   "metadata": {},
   "outputs": [
    {
     "name": "stdout",
     "output_type": "stream",
     "text": [
      "sunny\n"
     ]
    }
   ],
   "source": [
    "print(z)"
   ]
  },
  {
   "cell_type": "code",
   "execution_count": 163,
   "id": "8dd283cf",
   "metadata": {},
   "outputs": [
    {
     "name": "stdout",
     "output_type": "stream",
     "text": [
      "False\n"
     ]
    }
   ],
   "source": [
    "print('z' in students)"
   ]
  },
  {
   "cell_type": "code",
   "execution_count": 164,
   "id": "59e2c7e8",
   "metadata": {},
   "outputs": [
    {
     "name": "stdout",
     "output_type": "stream",
     "text": [
      "False\n"
     ]
    }
   ],
   "source": [
    "print('sunny' in students)"
   ]
  },
  {
   "cell_type": "code",
   "execution_count": 165,
   "id": "b17cf60d",
   "metadata": {},
   "outputs": [
    {
     "ename": "TypeError",
     "evalue": "insert expected 2 arguments, got 1",
     "output_type": "error",
     "traceback": [
      "\u001b[1;31m---------------------------------------------------------------------------\u001b[0m",
      "\u001b[1;31mTypeError\u001b[0m                                 Traceback (most recent call last)",
      "Cell \u001b[1;32mIn[165], line 1\u001b[0m\n\u001b[1;32m----> 1\u001b[0m \u001b[43mstudents\u001b[49m\u001b[38;5;241;43m.\u001b[39;49m\u001b[43minsert\u001b[49m\u001b[43m(\u001b[49m\u001b[43mz\u001b[49m\u001b[43m)\u001b[49m\n",
      "\u001b[1;31mTypeError\u001b[0m: insert expected 2 arguments, got 1"
     ]
    }
   ],
   "source": [
    "students.insert(z)"
   ]
  },
  {
   "cell_type": "code",
   "execution_count": 166,
   "id": "99acd8de",
   "metadata": {},
   "outputs": [
    {
     "ename": "TypeError",
     "evalue": "insert expected 2 arguments, got 1",
     "output_type": "error",
     "traceback": [
      "\u001b[1;31m---------------------------------------------------------------------------\u001b[0m",
      "\u001b[1;31mTypeError\u001b[0m                                 Traceback (most recent call last)",
      "Cell \u001b[1;32mIn[166], line 1\u001b[0m\n\u001b[1;32m----> 1\u001b[0m \u001b[43mstudents\u001b[49m\u001b[38;5;241;43m.\u001b[39;49m\u001b[43minsert\u001b[49m\u001b[43m(\u001b[49m\u001b[38;5;124;43m'\u001b[39;49m\u001b[38;5;124;43mz\u001b[39;49m\u001b[38;5;124;43m'\u001b[39;49m\u001b[43m)\u001b[49m\n",
      "\u001b[1;31mTypeError\u001b[0m: insert expected 2 arguments, got 1"
     ]
    }
   ],
   "source": [
    "students.insert('z')"
   ]
  },
  {
   "cell_type": "code",
   "execution_count": 167,
   "id": "8115e7d8",
   "metadata": {},
   "outputs": [
    {
     "ename": "NameError",
     "evalue": "name 'harry' is not defined",
     "output_type": "error",
     "traceback": [
      "\u001b[1;31m---------------------------------------------------------------------------\u001b[0m",
      "\u001b[1;31mNameError\u001b[0m                                 Traceback (most recent call last)",
      "Cell \u001b[1;32mIn[167], line 1\u001b[0m\n\u001b[1;32m----> 1\u001b[0m students[\u001b[38;5;241m0\u001b[39m]\u001b[38;5;241m=\u001b[39m\u001b[43mharry\u001b[49m\n",
      "\u001b[1;31mNameError\u001b[0m: name 'harry' is not defined"
     ]
    }
   ],
   "source": [
    "students[0]=harry"
   ]
  },
  {
   "cell_type": "code",
   "execution_count": 170,
   "id": "b7e8a4d2",
   "metadata": {},
   "outputs": [],
   "source": [
    "students[0]='harry'      # modify the the list used to index number"
   ]
  },
  {
   "cell_type": "code",
   "execution_count": 171,
   "id": "9867c82e",
   "metadata": {},
   "outputs": [
    {
     "name": "stdout",
     "output_type": "stream",
     "text": [
      "['harry', 'rohan', 'aditya', 'Viyan', 'shalu', 'jayant', 'adi', 'praveen']\n"
     ]
    }
   ],
   "source": [
    "print(students)"
   ]
  },
  {
   "cell_type": "code",
   "execution_count": null,
   "id": "5e02811a",
   "metadata": {},
   "outputs": [],
   "source": []
  },
  {
   "cell_type": "code",
   "execution_count": null,
   "id": "c68787e4",
   "metadata": {},
   "outputs": [],
   "source": []
  },
  {
   "cell_type": "code",
   "execution_count": null,
   "id": "2fd94a68",
   "metadata": {},
   "outputs": [],
   "source": []
  }
 ],
 "metadata": {
  "kernelspec": {
   "display_name": "Python 3 (ipykernel)",
   "language": "python",
   "name": "python3"
  },
  "language_info": {
   "codemirror_mode": {
    "name": "ipython",
    "version": 3
   },
   "file_extension": ".py",
   "mimetype": "text/x-python",
   "name": "python",
   "nbconvert_exporter": "python",
   "pygments_lexer": "ipython3",
   "version": "3.10.9"
  }
 },
 "nbformat": 4,
 "nbformat_minor": 5
}
